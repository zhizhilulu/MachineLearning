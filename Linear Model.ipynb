{
 "cells": [
  {
   "cell_type": "markdown",
   "metadata": {},
   "source": [
    "# Machine Learning Algorithms implemented in Julia"
   ]
  },
  {
   "cell_type": "markdown",
   "metadata": {},
   "source": [
    "Based on *Machine Learning* by Zhou ZhiHua"
   ]
  },
  {
   "cell_type": "markdown",
   "metadata": {},
   "source": [
    "## Linear Model "
   ]
  },
  {
   "cell_type": "markdown",
   "metadata": {},
   "source": [
    "The main goal of Linear Model is to come up with a function that can make prediction based on given attributes, its basic form is like $f(x) = w_1x_1 + w_2x_2 + \\cdots + w_dx_d + b$ and we can also write it in vector form $f(x) = \\bf{w^{\\mathtt{T}}x +b}$ where ${\\bf{w}} = (w_1;w_2;w_3;...;w_d)$.<br>  When we finally learned ${\\bf{w}}$ and $b$, we have also learned the Linear Model."
   ]
  },
  {
   "cell_type": "markdown",
   "metadata": {},
   "source": [
    "### Linear Regression"
   ]
  },
  {
   "cell_type": "markdown",
   "metadata": {},
   "source": [
    "Linear Model is simple and easy to interprete. <br>\n",
    "So we begin by Linear Regression Model which is the most basic and widedly used linear model"
   ]
  },
  {
   "cell_type": "markdown",
   "metadata": {},
   "source": [
    "Given Dataset $D = \\{({\\bf{x_1}},y_1),({\\bf{x_2}},y_2),...,({\\bf{x_m}},y_m)\\}$ where ${\\bf{x_i}}=(x_{i1};x_{i2};...;x_{id})$ and $y_i \\in \\mathbb{R}$ <br>\n",
    "Linear Regression Model set  ${\\bf{w}}$ and $b$ which minimize the difference between $f({\\bf{w}},b)$ and $y$\n"
   ]
  },
  {
   "cell_type": "markdown",
   "metadata": {},
   "source": [
    "As for multivariate linear regression, let $X$ represents the Dataset with each row represents a single data sample and first $d$ elements stand for $d$ attributes and one be the end of every row.<br>\n"
   ]
  },
  {
   "cell_type": "code",
   "execution_count": 1,
   "metadata": {},
   "outputs": [],
   "source": [
    "# dataset \n",
    "density = [0.697;0.774;0.634;0.608;0.556;0.403;0.481;0.437;0.666;0.243;0.245;0.343;0.639;0.657;0.360;0.593;0.719];\n",
    "sugarcontent = [0.460;0.376;0.264;0.318;0.215;0.237;0.149;0.211;0.091;0.267;0.057;0.099;0.161;0.198;0.370;0.042;0.103];\n",
    "label = [1;1;1;1;1;1;1;1;0;0;0;0;0;0;0;0;0];"
   ]
  },
  {
   "cell_type": "code",
   "execution_count": 2,
   "metadata": {},
   "outputs": [],
   "source": [
    "# linear model result class\n",
    "struct LinearModelResult\n",
    "    wvec # vector of weights\n",
    "    b    # additional intercepts\n",
    "    predictfunc # linear predict function\n",
    "    residuals # sample residuals\n",
    "end"
   ]
  },
  {
   "cell_type": "code",
   "execution_count": 40,
   "metadata": {},
   "outputs": [
    {
     "data": {
      "text/plain": [
       "LinearRegression (generic function with 1 method)"
      ]
     },
     "execution_count": 40,
     "metadata": {},
     "output_type": "execute_result"
    }
   ],
   "source": [
    "# Linear Regression Function\n",
    "function LinearRegression(X,y)\n",
    "    X = [X ones(size(X,1),1)]\n",
    "    paras = inv(X' * X) * (X'* y)\n",
    "    function predfunc(x)\n",
    "        x * paras[1:end-1] .+ paras[end]\n",
    "    end\n",
    "    res = LinearModelResult(paras[1:end-1],paras[end],predfunc)\n",
    "end"
   ]
  },
  {
   "cell_type": "code",
   "execution_count": 41,
   "metadata": {},
   "outputs": [],
   "source": [
    "# Linear Regression Test by given dataset\n",
    "X = [density sugarcontent];\n",
    "y = label;\n",
    "test = LinearRegression(X,y);"
   ]
  },
  {
   "cell_type": "code",
   "execution_count": 42,
   "metadata": {},
   "outputs": [
    {
     "data": {
      "text/plain": [
       "1-element Array{Float64,1}:\n",
       " 1.0793855397904826"
      ]
     },
     "execution_count": 42,
     "metadata": {},
     "output_type": "execute_result"
    }
   ],
   "source": [
    "test.predictfunc([density[1] sugarcontent[1]])"
   ]
  },
  {
   "cell_type": "code",
   "execution_count": 43,
   "metadata": {},
   "outputs": [
    {
     "data": {
      "text/plain": [
       "17-element Array{Float64,1}:\n",
       " 1.0793855397904826  \n",
       " 0.9298292670457147  \n",
       " 0.625691885013115   \n",
       " 0.7319772303975127  \n",
       " 0.485402888652371   \n",
       " 0.4672447597811231  \n",
       " 0.3094158914290266  \n",
       " 0.4253412180254721  \n",
       " 0.26304689921306795 \n",
       " 0.4634739439987171  \n",
       " 0.007368105543229225\n",
       " 0.1410563147503745  \n",
       " 0.40371735390226926 \n",
       " 0.4919992990557531  \n",
       " 0.7381007013794593  \n",
       " 0.12491578097813938 \n",
       " 0.31203292104418656 "
      ]
     },
     "execution_count": 43,
     "metadata": {},
     "output_type": "execute_result"
    }
   ],
   "source": [
    "test.predictfunc([density sugarcontent])"
   ]
  },
  {
   "cell_type": "markdown",
   "metadata": {},
   "source": [
    "### Logistic Regression"
   ]
  },
  {
   "cell_type": "markdown",
   "metadata": {},
   "source": [
    "Logistic regression is one of the most frequently used binary classification method"
   ]
  },
  {
   "cell_type": "code",
   "execution_count": 88,
   "metadata": {},
   "outputs": [
    {
     "data": {
      "text/plain": [
       "LogisticRegression (generic function with 1 method)"
      ]
     },
     "execution_count": 88,
     "metadata": {},
     "output_type": "execute_result"
    }
   ],
   "source": [
    "function LogisticRegression(X,y)\n",
    "    X = [X ones(size(X)[1],1)]\n",
    "    β = ones(size(X)[2],1)\n",
    "    Loss = sum(-y.* (X * β) + log.(1 .+ exp.(X * β)))\n",
    "    dLoss = Loss\n",
    "    maxtol = 1e-4\n",
    "    p1(x,beta) = exp.(beta' * x) / (1 .+ exp.(beta' * x))\n",
    "    while dLoss > maxtol\n",
    "        partialsq = sum(map(i -> X[i,:] * X[i,:]' .* p1(X[i,:],β) .* (1 .- p1(X[i,:],β)),1:size(X)[1]))\n",
    "        partial = -sum(map(i -> X[i,:] .* (y[i] .- p1(X[i,:],β)), 1:size(X)[1]))\n",
    "        β = β - inv(partialsq) * partial\n",
    "        newLoss = sum(-y.* (X * β) + log.(1 .+ exp.(X * β)))\n",
    "        dLoss = abs(newLoss - Loss)\n",
    "        Loss = newLoss\n",
    "    end\n",
    "    β\n",
    "end"
   ]
  },
  {
   "cell_type": "code",
   "execution_count": 90,
   "metadata": {},
   "outputs": [
    {
     "data": {
      "text/plain": [
       "3×1 Array{Float64,2}:\n",
       "  3.158300358361756\n",
       " 12.521114859178388\n",
       " -4.428831823031115"
      ]
     },
     "execution_count": 90,
     "metadata": {},
     "output_type": "execute_result"
    }
   ],
   "source": [
    "res = LogisticRegression([density sugarcontent],label)"
   ]
  },
  {
   "cell_type": "code",
   "execution_count": 97,
   "metadata": {},
   "outputs": [
    {
     "data": {
      "text/plain": [
       "17×1 Array{Float64,2}:\n",
       " 0.9715906528851437  \n",
       " 0.9384067868528045  \n",
       " 0.7066367056452436  \n",
       " 0.81353256136833    \n",
       " 0.5048055697572374  \n",
       " 0.4530059767140236  \n",
       " 0.2603706024194883  \n",
       " 0.39970382306470326 \n",
       " 0.23397826238436087 \n",
       " 0.4211078611154841  \n",
       " 0.050147183643707266\n",
       " 0.10852039530451799 \n",
       " 0.40256752894281306 \n",
       " 0.531297092936248   \n",
       " 0.7926492157379162  \n",
       " 0.11608144323446899 \n",
       " 0.2956000317899552  "
      ]
     },
     "execution_count": 97,
     "metadata": {},
     "output_type": "execute_result"
    }
   ],
   "source": [
    "y =  1 ./ (1 .+ exp.(-[density sugarcontent ones(size(density))] * res)) "
   ]
  },
  {
   "cell_type": "code",
   "execution_count": 98,
   "metadata": {},
   "outputs": [
    {
     "name": "stdout",
     "output_type": "stream",
     "text": [
      "1\n",
      "1\n",
      "1\n",
      "1\n",
      "1\n",
      "0\n",
      "0\n",
      "0\n",
      "0\n",
      "0\n",
      "0\n",
      "0\n",
      "0\n",
      "1\n",
      "1\n",
      "0\n",
      "0\n"
     ]
    }
   ],
   "source": [
    "for yy ∈ y\n",
    "    println(yy > 0.5 ? 1 : 0)\n",
    "end"
   ]
  },
  {
   "cell_type": "code",
   "execution_count": null,
   "metadata": {},
   "outputs": [],
   "source": []
  }
 ],
 "metadata": {
  "kernelspec": {
   "display_name": "Julia 1.0.0",
   "language": "julia",
   "name": "julia-1.0"
  },
  "language_info": {
   "file_extension": ".jl",
   "mimetype": "application/julia",
   "name": "julia",
   "version": "1.0.0"
  }
 },
 "nbformat": 4,
 "nbformat_minor": 2
}
